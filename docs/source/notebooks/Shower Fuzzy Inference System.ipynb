{
 "cells": [
  {
   "cell_type": "markdown",
   "metadata": {},
   "source": [
    "# Shower Fuzzy Inference System"
   ]
  },
  {
   "cell_type": "code",
   "execution_count": 1,
   "metadata": {},
   "outputs": [],
   "source": [
    "import FuzzySystem as fs\n",
    "import numpy as np\n",
    "\n",
    "file = 'shower.fis'\n",
    "\n",
    "fis = fs.import_fis_matlab(file)"
   ]
  },
  {
   "cell_type": "code",
   "execution_count": 2,
   "metadata": {},
   "outputs": [
    {
     "name": "stdout",
     "output_type": "stream",
     "text": [
      "[System]\n",
      "Name='shower'\n",
      "Type='mamdani'\n",
      "Version=2.0\n",
      "NumInputs=2\n",
      "NumOutputs=2\n",
      "NumRules=9\n",
      "AndMethod='min'\n",
      "OrMethod='max'\n",
      "ImpMethod='min'\n",
      "AggMethod='max'\n",
      "DefuzzMethod='centroid'\n",
      "\n",
      "[Input1]\n",
      "Name='temp'\n",
      "Range=[-20 20]\n",
      "NumMFs=3\n",
      "MF1='cold':'trapmf',[-30 -30 -15 0]\n",
      "MF2='good':'trimf',[-10 0 10 0]\n",
      "MF3='hot':'trapmf',[0 15 30 30]\n",
      "\n",
      "[Input2]\n",
      "Name='flow'\n",
      "Range=[-1 1]\n",
      "NumMFs=3\n",
      "MF1='soft':'trapmf',[-3 -3 -0.8 0]\n",
      "MF2='good':'trimf',[-0.4 0 0.4 0]\n",
      "MF3='hard':'trapmf',[0 0.8 3 3]\n",
      "\n",
      "[Output1]\n",
      "Name='cold'\n",
      "Range=[-1 1]\n",
      "NumMFs=5\n",
      "MF1='closeFast':'trimf',[-1 -0.6 -0.3 0]\n",
      "MF2='closeSlow':'trimf',[-0.6 -0.3 0 0]\n",
      "MF3='steady':'trimf',[-0.3 0 0.3 0]\n",
      "MF4='openSlow':'trimf',[0 0.3 0.6 0]\n",
      "MF5='openFast':'trimf',[0.3 0.6 1 0]\n",
      "\n",
      "[Output2]\n",
      "Name='hot'\n",
      "Range=[-1 1]\n",
      "NumMFs=5\n",
      "MF1='closeFast':'trimf',[-1 -0.6 -0.3 0]\n",
      "MF2='closeSlow':'trimf',[-0.6 -0.3 0 0]\n",
      "MF3='steady':'trimf',[-0.3 0 0.3 0]\n",
      "MF4='openSlow':'trimf',[0 0.3 0.6 0]\n",
      "MF5='openFast':'trimf',[0.3 0.6 1 0]\n",
      "\n",
      "[Rules]\n",
      "1 1, 4 5 (1) : 1\n",
      "1 2, 2 4 (1) : 1\n",
      "1 3, 1 2 (1) : 1\n",
      "2 1, 4 4 (1) : 1\n",
      "2 2, 3 3 (1) : 1\n",
      "2 3, 2 2 (1) : 1\n",
      "3 1, 5 4 (1) : 1\n",
      "3 2, 4 2 (1) : 1\n",
      "3 3, 2 1 (1) : 1\n",
      "\n"
     ]
    }
   ],
   "source": [
    "text_file = open(file)\n",
    "file_content = text_file.read()\n",
    "print(file_content)\n",
    "text_file.close()"
   ]
  },
  {
   "cell_type": "code",
   "execution_count": 3,
   "metadata": {},
   "outputs": [
    {
     "name": "stdout",
     "output_type": "stream",
     "text": [
      "Inputs:\n",
      "temp: [12.05, 12]\n",
      "flow: [0.1687, 0.1]\n",
      " IF temp is cold and flow is soft THEN cold is openSlow and hot is openFast, fs = [0 0] with weight = 1.00\n",
      " IF temp is cold and flow is good THEN cold is closeSlow and hot is openSlow, fs = [0. 0.] with weight = 1.00\n",
      " IF temp is cold and flow is hard THEN cold is closeFast and hot is closeSlow, fs = [0. 0.] with weight = 1.00\n",
      " IF temp is good and flow is soft THEN cold is openSlow and hot is openSlow, fs = [0. 0.] with weight = 1.00\n",
      " IF temp is good and flow is good THEN cold is steady and hot is steady, fs = [0. 0.] with weight = 1.00\n",
      " IF temp is good and flow is hard THEN cold is closeSlow and hot is closeSlow, fs = [0. 0.] with weight = 1.00\n",
      " IF temp is hot and flow is soft THEN cold is openFast and hot is openSlow, fs = [0. 0.] with weight = 1.00\n",
      " IF temp is hot and flow is good THEN cold is openSlow and hot is closeSlow, fs = [0.58 0.75] with weight = 1.00\n",
      " IF temp is hot and flow is hard THEN cold is closeSlow and hot is closeFast, fs = [0.21 0.12] with weight = 1.00\n"
     ]
    }
   ],
   "source": [
    "inputs = {'temp':[12.05, 12], 'flow':[0.1687, .1]}\n",
    "result = fis.eval(inputs, verbose=True)"
   ]
  },
  {
   "cell_type": "code",
   "execution_count": 4,
   "metadata": {},
   "outputs": [
    {
     "name": "stdout",
     "output_type": "stream",
     "text": [
      "\n",
      "Fuzzy System Rules:\n",
      "IF temp is cold and flow is soft THEN cold is openSlow and hot is openFast\n",
      "IF temp is cold and flow is good THEN cold is closeSlow and hot is openSlow\n",
      "IF temp is cold and flow is hard THEN cold is closeFast and hot is closeSlow\n",
      "IF temp is good and flow is soft THEN cold is openSlow and hot is openSlow\n",
      "IF temp is good and flow is good THEN cold is steady and hot is steady\n",
      "IF temp is good and flow is hard THEN cold is closeSlow and hot is closeSlow\n",
      "IF temp is hot and flow is soft THEN cold is openFast and hot is openSlow\n",
      "IF temp is hot and flow is good THEN cold is openSlow and hot is closeSlow\n",
      "IF temp is hot and flow is hard THEN cold is closeSlow and hot is closeFast\n"
     ]
    }
   ],
   "source": [
    "fis.show_rules()"
   ]
  },
  {
   "cell_type": "code",
   "execution_count": 5,
   "metadata": {},
   "outputs": [
    {
     "name": "stdout",
     "output_type": "stream",
     "text": [
      "<class 'dict'>\n",
      "<class 'dict'>\n"
     ]
    },
    {
     "data": {
      "text/plain": "<Figure size 432x288 with 1 Axes>",
      "image/png": "[encoded data removed]"
     },
     "metadata": {
      "needs_background": "light"
     },
     "output_type": "display_data"
    },
    {
     "data": {
      "text/plain": "<Figure size 432x288 with 1 Axes>",
      "image/png": "[encoded data removed]"
     },
     "metadata": {
      "needs_background": "light"
     },
     "output_type": "display_data"
    }
   ],
   "source": [
    "result.show(fs.Centroid, nout=0)"
   ]
  },
  {
   "cell_type": "code",
   "execution_count": 5,
   "metadata": {},
   "outputs": [],
   "source": []
  }
 ],
 "metadata": {
  "kernelspec": {
   "display_name": "Python 3",
   "language": "python",
   "name": "python3"
  },
  "language_info": {
   "codemirror_mode": {
    "name": "ipython",
    "version": 3
   },
   "file_extension": ".py",
   "mimetype": "text/x-python",
   "name": "python",
   "nbconvert_exporter": "python",
   "pygments_lexer": "ipython3",
   "version": "3.7.4"
  }
 },
 "nbformat": 4,
 "nbformat_minor": 2
}