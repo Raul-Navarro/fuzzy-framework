{
 "cells": [
  {
   "cell_type": "markdown",
   "metadata": {},
   "source": [
    "# Ejemplo de FIS tipo Sugeno\n"
   ]
  },
  {
   "cell_type": "code",
   "execution_count": 1,
   "metadata": {},
   "outputs": [],
   "source": [
    "import numpy as np\n",
    "# from FuzzySystem.FuzzySet import FuzzySet\n",
    "# from FuzzySystem.FuzzyVariable import FuzzyVariable\n",
    "# from FuzzySystem.FuzzyInferenceSystem import FuzzyInferenceSystem\n",
    "# from FuzzySystem.MembershipFunction import Trimf, Gaussmf, Trapmf\n",
    "# from FuzzySystem.FuzzyInferenceSystem import FuzzyRule, Antecedent, TSKConsequent\n",
    "import FuzzySystem as fs"
   ]
  },
  {
   "cell_type": "code",
   "execution_count": 2,
   "metadata": {},
   "outputs": [],
   "source": [
    "def f1(x1, x2, c0, c1, c2): return c0+c1*x1+c2*x2\n",
    "output1 = fs.TSKConsequent(params=np.array([1,1.5,2]), function=f1)\n",
    "\n",
    "def f2(x1, x2, c0, c1, c2): return c0+c1*x1+c2*x2\n",
    "output2 = fs.TSKConsequent(params=np.array([2,2.5,2.5]), function=f2)\n",
    "\n",
    "def f3(x1, x2, c0, c1, c2): return c0+c1*x1+c2*x2\n",
    "output3 = fs.TSKConsequent(params=np.array([3,3.5,3]), function=f3)\n",
    "\n",
    "def f4(x1, x2, c0, c1, c2): return c0+c1*x1+c2*x2\n",
    "output4 = fs.TSKConsequent(params=np.array([4,4.5,3.5]), function=f4)"
   ]
  },
  {
   "cell_type": "code",
   "execution_count": 3,
   "metadata": {
    "scrolled": false
   },
   "outputs": [
    {
     "data": {
      "image/png": "[encoded data removed]",
      "text/plain": [
       "<Figure size 432x288 with 1 Axes>"
      ]
     },
     "metadata": {
      "needs_background": "light"
     },
     "output_type": "display_data"
    },
    {
     "ename": "NameError",
     "evalue": "name 'Trapmf' is not defined",
     "output_type": "error",
     "traceback": [
      "\u001b[0;31m---------------------------------------------------------\u001b[0m",
      "\u001b[0;31mNameError\u001b[0m               Traceback (most recent call last)",
      "\u001b[0;32m<ipython-input-3-35ba8b21f141>\u001b[0m in \u001b[0;36m<module>\u001b[0;34m\u001b[0m\n\u001b[1;32m      6\u001b[0m \u001b[0;34m\u001b[0m\u001b[0m\n\u001b[1;32m      7\u001b[0m \u001b[0mx21\u001b[0m \u001b[0;34m=\u001b[0m \u001b[0mfs\u001b[0m\u001b[0;34m.\u001b[0m\u001b[0mFuzzySet\u001b[0m\u001b[0;34m(\u001b[0m\u001b[0;34m'x21'\u001b[0m\u001b[0;34m,\u001b[0m \u001b[0mfs\u001b[0m\u001b[0;34m.\u001b[0m\u001b[0mTrapmf\u001b[0m\u001b[0;34m(\u001b[0m\u001b[0;34m[\u001b[0m\u001b[0;34m-\u001b[0m\u001b[0;36m1.5\u001b[0m\u001b[0;34m,\u001b[0m\u001b[0;34m-\u001b[0m\u001b[0;36m1.5\u001b[0m\u001b[0;34m,\u001b[0m\u001b[0;34m-\u001b[0m\u001b[0;36m1\u001b[0m\u001b[0;34m,\u001b[0m\u001b[0;36m1\u001b[0m\u001b[0;34m]\u001b[0m\u001b[0;34m)\u001b[0m\u001b[0;34m)\u001b[0m\u001b[0;34m\u001b[0m\u001b[0;34m\u001b[0m\u001b[0m\n\u001b[0;32m----> 8\u001b[0;31m \u001b[0mx22\u001b[0m \u001b[0;34m=\u001b[0m \u001b[0mfs\u001b[0m\u001b[0;34m.\u001b[0m\u001b[0mFuzzySet\u001b[0m\u001b[0;34m(\u001b[0m\u001b[0;34m'x22'\u001b[0m\u001b[0;34m,\u001b[0m \u001b[0mTrapmf\u001b[0m\u001b[0;34m(\u001b[0m\u001b[0;34m[\u001b[0m\u001b[0;34m-\u001b[0m\u001b[0;36m1\u001b[0m\u001b[0;34m,\u001b[0m\u001b[0;36m1\u001b[0m\u001b[0;34m,\u001b[0m\u001b[0;36m1.5\u001b[0m\u001b[0;34m,\u001b[0m\u001b[0;36m1.5\u001b[0m\u001b[0;34m]\u001b[0m\u001b[0;34m)\u001b[0m\u001b[0;34m)\u001b[0m\u001b[0;34m\u001b[0m\u001b[0;34m\u001b[0m\u001b[0m\n\u001b[0m\u001b[1;32m      9\u001b[0m \u001b[0mmf2\u001b[0m \u001b[0;34m=\u001b[0m \u001b[0mfs\u001b[0m\u001b[0;34m.\u001b[0m\u001b[0mFuzzyVariable\u001b[0m\u001b[0;34m(\u001b[0m\u001b[0;34m'MF2'\u001b[0m\u001b[0;34m,\u001b[0m\u001b[0;34m[\u001b[0m\u001b[0mx21\u001b[0m\u001b[0;34m,\u001b[0m \u001b[0mx22\u001b[0m\u001b[0;34m]\u001b[0m\u001b[0;34m,\u001b[0m \u001b[0muniverse\u001b[0m\u001b[0;34m=\u001b[0m\u001b[0;34m[\u001b[0m\u001b[0;34m-\u001b[0m\u001b[0;36m1.5\u001b[0m\u001b[0;34m,\u001b[0m \u001b[0;36m1.5\u001b[0m\u001b[0;34m]\u001b[0m\u001b[0;34m)\u001b[0m\u001b[0;34m\u001b[0m\u001b[0;34m\u001b[0m\u001b[0m\n\u001b[1;32m     10\u001b[0m \u001b[0mmf2\u001b[0m\u001b[0;34m.\u001b[0m\u001b[0mshow\u001b[0m\u001b[0;34m(\u001b[0m\u001b[0;34m)\u001b[0m\u001b[0;34m\u001b[0m\u001b[0;34m\u001b[0m\u001b[0m\n",
      "\u001b[0;31mNameError\u001b[0m: name 'Trapmf' is not defined"
     ]
    }
   ],
   "source": [
    "#INPUTS\n",
    "x11 = fs.FuzzySet('x11', fs.Trapmf([-1.5,-1.5,-1,1]))\n",
    "x12 = fs.FuzzySet('x12', fs.Trapmf([-1,1,1.5,1.5]))\n",
    "mf1 = fs.FuzzyVariable('MF1',[x11, x12], universe=[-1.5, 1.5])\n",
    "mf1.show()\n",
    "\n",
    "x21 = fs.FuzzySet('x21', fs.Trapmf([-1.5,-1.5,-1,1]))\n",
    "x22 = fs.FuzzySet('x22', fs.Trapmf([-1,1,1.5,1.5]))\n",
    "mf2 = fs.FuzzyVariable('MF2',[x21, x22], universe=[-1.5, 1.5])\n",
    "mf2.show()\n",
    "\n",
    "#OUTPUT\n",
    "def f(x1, x2, c0, c1, c2): return c0+c1*x1+c2*x2\n",
    "output1 = fs.TSKConsequent(params=np.array([1,1.5,2]), function=f)\n",
    "\n",
    "def f2(x1, x2, c0, c1, c2): return c0+c1*x1+c2*x2\n",
    "output2 = fs.TSKConsequent(params=np.array([2,2.5,2.5]), function=f2)\n",
    "\n",
    "def f3(x1, x2, c0, c1, c2): return c0+c1*x1+c2*x2\n",
    "output3 = fs.TSKConsequent(params=np.array([3,3.5,3]), function=f3)\n",
    "\n",
    "def f4(x1, x2, c0, c1, c2): return c0+c1*x1+c2*x2\n",
    "output4 = fs.TSKConsequent(params=np.array([4,4.5,3.5]), function=f4)\n",
    "\n",
    "#RULES\n",
    "\n",
    "ant1  = fs.Antecedent(mf1['x11'] & mf2['x21'])\n",
    "rule1 = fs.FuzzyRule(ant1, output1)\n",
    "\n",
    "ant2  = fs.Antecedent(mf1['x11'] & mf2['x22'])\n",
    "rule2 = fs.FuzzyRule(ant2, output2)\n",
    "\n",
    "ant3  = fs.Antecedent(mf1['x12'] & mf2['x21'])\n",
    "rule3 = fs.FuzzyRule(ant3, output3)\n",
    "\n",
    "ant4  = fs.Antecedent(mf1['x12'] & mf2['x22'])\n",
    "rule4 = fs.FuzzyRule(ant4, output4)\n",
    "\n",
    "#Building the FIS\n",
    "\n",
    "fis = fs.FuzzyInferenceSystem([rule1, rule2, rule3, rule4], and_op='prod', or_op='sum')\n",
    "\n",
    "#FIS Evaluation\n",
    "\n",
    "inputs = (('MF1',np.float(-0.3)), ('MF2',np.float(0.6)))\n",
    "result = fis.eval(inputs, verbose=True)"
   ]
  },
  {
   "cell_type": "code",
   "execution_count": null,
   "metadata": {},
   "outputs": [],
   "source": [
    "#from FuzzySystem.Defuzzifier import TSKDefuzzifier\n",
    "\n",
    "fs.TSKDefuzzifier(result).eval()"
   ]
  },
  {
   "cell_type": "code",
   "execution_count": null,
   "metadata": {},
   "outputs": [],
   "source": []
  }
 ],
 "metadata": {
  "kernelspec": {
   "display_name": "Python 3",
   "language": "python",
   "name": "python3"
  },
  "language_info": {
   "codemirror_mode": {
    "name": "ipython",
    "version": 3
   },
   "file_extension": ".py",
   "mimetype": "text/x-python",
   "name": "python",
   "nbconvert_exporter": "python",
   "pygments_lexer": "ipython3",
   "version": "3.7.4"
  }
 },
 "nbformat": 4,
 "nbformat_minor": 2
}
