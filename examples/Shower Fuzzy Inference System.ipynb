{
 "cells": [
  {
   "cell_type": "markdown",
   "metadata": {},
   "source": [
    "# Shower Fuzzy Inference System"
   ]
  },
  {
   "cell_type": "code",
   "execution_count": 1,
   "metadata": {},
   "outputs": [],
   "source": [
    "import FuzzySystem as fs\n",
    "import numpy as np"
   ]
  },
  {
   "cell_type": "code",
   "execution_count": 2,
   "metadata": {},
   "outputs": [
    {
     "name": "stdout",
     "output_type": "stream",
     "text": [
      "\n",
      "Evaluation of FIS with inputs:\n",
      "temp: 12.05\n",
      "flow: 0.1687\n",
      "\tIF temp is cold and flow is soft THEN cold is openSlow and hot is openFast = 0 with weight = 1\n",
      "\tIF temp is cold and flow is good THEN cold is closeSlow and hot is openSlow = 0 with weight = 1\n",
      "\tIF temp is cold and flow is hard THEN cold is closeFast and hot is closeSlow = 0 with weight = 1\n",
      "\tIF temp is good and flow is soft THEN cold is openSlow and hot is openSlow = 0 with weight = 1\n",
      "\tIF temp is good and flow is good THEN cold is steady and hot is steady = 0 with weight = 1\n",
      "\tIF temp is good and flow is hard THEN cold is closeSlow and hot is closeSlow = 0 with weight = 1\n",
      "\tIF temp is hot and flow is soft THEN cold is openFast and hot is openSlow = 0 with weight = 1\n",
      "\tIF temp is hot and flow is good THEN cold is openSlow and hot is closeSlow = 0.57825 with weight = 1\n",
      "\tIF temp is hot and flow is hard THEN cold is closeSlow and hot is closeFast = 0.21087499999999998 with weight = 1\n"
     ]
    }
   ],
   "source": [
    "fis = fs.import_fis_matlab('shower.fis')\n",
    "inputs = {'temp':12.05, 'flow':0.1687}\n",
    "result = fis.eval(inputs)"
   ]
  },
  {
   "cell_type": "code",
   "execution_count": 9,
   "metadata": {},
   "outputs": [
    {
     "name": "stdout",
     "output_type": "stream",
     "text": [
      "\n",
      "Fuzzy System Rules:\n",
      "IF temp is cold and flow is soft THEN cold is openSlow and hot is openFast\n",
      "IF temp is cold and flow is good THEN cold is closeSlow and hot is openSlow\n",
      "IF temp is cold and flow is hard THEN cold is closeFast and hot is closeSlow\n",
      "IF temp is good and flow is soft THEN cold is openSlow and hot is openSlow\n",
      "IF temp is good and flow is good THEN cold is steady and hot is steady\n",
      "IF temp is good and flow is hard THEN cold is closeSlow and hot is closeSlow\n",
      "IF temp is hot and flow is soft THEN cold is openFast and hot is openSlow\n",
      "IF temp is hot and flow is good THEN cold is openSlow and hot is closeSlow\n",
      "IF temp is hot and flow is hard THEN cold is closeSlow and hot is closeFast\n"
     ]
    }
   ],
   "source": [
    "fis.show_rules()"
   ]
  },
  {
   "cell_type": "code",
   "execution_count": 3,
   "metadata": {},
   "outputs": [
    {
     "data": {
      "image/png": "[encoded data removed]",
      "text/plain": [
       "<Figure size 432x288 with 1 Axes>"
      ]
     },
     "metadata": {},
     "output_type": "display_data"
    },
    {
     "data": {
      "image/png": "[encoded data removed]",
      "text/plain": [
       "<Figure size 432x288 with 1 Axes>"
      ]
     },
     "metadata": {},
     "output_type": "display_data"
    }
   ],
   "source": [
    "from FuzzySystem.Defuzzifier import Centroid\n",
    "result.show(Centroid)"
   ]
  },
  {
   "cell_type": "code",
   "execution_count": 4,
   "metadata": {},
   "outputs": [],
   "source": [
    "from FuzzySystem import matlab_importer as imp"
   ]
  },
  {
   "cell_type": "code",
   "execution_count": 5,
   "metadata": {},
   "outputs": [],
   "source": [
    "def import_rules_matlab(rules, fis_inputs, fis_outputs):\n",
    "    antecedent = []\n",
    "    consequent = []\n",
    "    for i, rule in enumerate(rules):\n",
    "        #antecedent.append(Antecedent(conector=min))        \n",
    "        #consequent.append(Consequent(conector=min))\n",
    "\n",
    "        for j,a in enumerate(rule[0]):\n",
    "            print(fis_inputs[j][int(a)-1])\n",
    "        for j,c in enumerate(rule[1]):\n",
    "            print(fis_outputs[j][int(c)-1])\n",
    "    "
   ]
  },
  {
   "cell_type": "code",
   "execution_count": 6,
   "metadata": {},
   "outputs": [],
   "source": [
    "def strip_array(array):\n",
    "    return [text.strip() for text in array if text.strip()!=''] \n",
    "\n",
    "def read_rules_matlab(file=None, txt=None): \n",
    "    rules_array = []\n",
    "    if file is not None:\n",
    "        with open(file, 'r') as f:\n",
    "            for text in f:\n",
    "                rules, conection = text.split(':')\n",
    "                ant, con = rules.split(',')\n",
    "                ants = strip_array(ant.split(' '))\n",
    "                cons = strip_array(con.split(' '))\n",
    "                weights = cons[-1].strip().replace('(','').replace(')','')\n",
    "                cons = cons[:-1]\n",
    "                conection = conection.strip()\n",
    "                rules_array.append((ants, cons, weights, conection))\n",
    "    elif txt is not None:\n",
    "        for text in txt:\n",
    "            rules, conection = text.split(':')\n",
    "            ant, con = rules.split(',')\n",
    "            ants = strip_array(ant.split(' '))\n",
    "            cons = strip_array(con.split(' '))\n",
    "            weights = cons[-1].strip().replace('(','').replace(')','')\n",
    "            cons = cons[:-1]\n",
    "            conection = conection.strip()\n",
    "            rules_array.append((ants, cons, weights, conection))\n",
    "    else:\n",
    "        return None\n",
    "    return rules_array    "
   ]
  },
  {
   "cell_type": "code",
   "execution_count": 7,
   "metadata": {},
   "outputs": [],
   "source": [
    "file = 'shower.fis'\n",
    "conf = imp.read_fis_file(file)\n",
    "parsed = imp.parse_fis_file(conf)\n",
    "fis_input, fis_output = imp.get_io_fis(parsed) \n",
    "rules = read_rules_matlab(txt=conf['rules'])\n",
    "#fis_rules = import_rules_matlab(rules, fis_input, fis_output)\n",
    "#fis = FuzzyInferenceSystem(fis_rules, inputs=fis_input, outputs=fis_output)\n",
    "#return fis "
   ]
  },
  {
   "cell_type": "code",
   "execution_count": 8,
   "metadata": {},
   "outputs": [
    {
     "name": "stdout",
     "output_type": "stream",
     "text": [
      "[[1 1 4 5 1 1]\n",
      " [1 2 2 4 1 1]\n",
      " [1 3 1 2 1 1]\n",
      " [2 1 4 4 1 1]\n",
      " [2 2 3 3 1 1]\n",
      " [2 3 2 2 1 1]\n",
      " [3 1 5 4 1 1]\n",
      " [3 2 4 2 1 1]\n",
      " [3 3 2 1 1 1]]\n"
     ]
    }
   ],
   "source": [
    "rule_matrix = None\n",
    "for i,r in enumerate(rules):\n",
    "    inputs = np.array(r[0], dtype=np.int)\n",
    "    outputs = np.array(r[1], dtype=np.int) \n",
    "    row = np.concatenate([inputs, outputs])\n",
    "    row = np.append(row, int(r[2]))\n",
    "    row = np.append(row, int(r[3]))\n",
    "    if i==0:\n",
    "        rule_matrix = np.array([row])\n",
    "    else:\n",
    "        rule_matrix = np.vstack([rule_matrix, row])\n",
    "print(rule_matrix)"
   ]
  },
  {
   "cell_type": "code",
   "execution_count": 9,
   "metadata": {},
   "outputs": [],
   "source": [
    "np_inputs = conf['system']['NumInputs']\n",
    "np_outputs = conf['system']['NumOutputs']"
   ]
  },
  {
   "cell_type": "code",
   "execution_count": 10,
   "metadata": {},
   "outputs": [
    {
     "name": "stdout",
     "output_type": "stream",
     "text": [
      "[[-30.  -30.  -15.    0.  -10.    0.   10.    0.    0.   15.   30.   30. ]\n",
      " [ -3.   -3.   -0.8   0.   -0.4   0.    0.4   0.    0.    0.8   3.    3. ]]\n"
     ]
    }
   ],
   "source": [
    "inputs_params = []\n",
    "for i in conf['inputs']:\n",
    "    fv = []\n",
    "    for fs in i['values']:\n",
    "        fv = fv+fs[2]\n",
    "    inputs_params.append(fv)\n",
    "print(np.array(inputs_params))"
   ]
  },
  {
   "cell_type": "code",
   "execution_count": 11,
   "metadata": {},
   "outputs": [
    {
     "name": "stdout",
     "output_type": "stream",
     "text": [
      "[[-1.  -0.6 -0.3  0.  -0.6 -0.3  0.   0.  -0.3  0.   0.3  0.   0.   0.3\n",
      "   0.6  0.   0.3  0.6  1.   0. ]\n",
      " [-1.  -0.6 -0.3  0.  -0.6 -0.3  0.   0.  -0.3  0.   0.3  0.   0.   0.3\n",
      "   0.6  0.   0.3  0.6  1.   0. ]]\n"
     ]
    }
   ],
   "source": [
    "outputs_params = []\n",
    "for i in conf['outputs']:\n",
    "    fv = []\n",
    "    for fs in i['values']:\n",
    "        fv = fv+fs[2]\n",
    "    outputs_params.append(fv)\n",
    "print(np.array(outputs_params))"
   ]
  },
  {
   "cell_type": "code",
   "execution_count": 12,
   "metadata": {},
   "outputs": [],
   "source": [
    "def f(x1, x0, a1, a2, a3): return x1*2*a1*a2*a3 + x0"
   ]
  },
  {
   "cell_type": "code",
   "execution_count": 13,
   "metadata": {},
   "outputs": [
    {
     "data": {
      "text/plain": [
       "33"
      ]
     },
     "execution_count": 13,
     "metadata": {},
     "output_type": "execute_result"
    }
   ],
   "source": [
    "f(2,1, 2, 2, 2)"
   ]
  },
  {
   "cell_type": "code",
   "execution_count": 14,
   "metadata": {},
   "outputs": [
    {
     "data": {
      "text/plain": [
       "33"
      ]
     },
     "execution_count": 14,
     "metadata": {},
     "output_type": "execute_result"
    }
   ],
   "source": [
    "a = [2,2,2]\n",
    "x = [2,1]\n",
    "f(*x,*a)"
   ]
  },
  {
   "cell_type": "code",
   "execution_count": 15,
   "metadata": {},
   "outputs": [],
   "source": [
    "a = (('z', 1), ('b',2))"
   ]
  },
  {
   "cell_type": "code",
   "execution_count": 16,
   "metadata": {},
   "outputs": [],
   "source": [
    "x,y = zip(*a)"
   ]
  },
  {
   "cell_type": "code",
   "execution_count": 17,
   "metadata": {},
   "outputs": [
    {
     "name": "stdout",
     "output_type": "stream",
     "text": [
      "('z', 'b')\n",
      "(1, 2)\n"
     ]
    }
   ],
   "source": [
    "print(x)\n",
    "print(y)"
   ]
  },
  {
   "cell_type": "code",
   "execution_count": null,
   "metadata": {},
   "outputs": [],
   "source": []
  }
 ],
 "metadata": {
  "kernelspec": {
   "display_name": "Python 3",
   "language": "python",
   "name": "python3"
  },
  "language_info": {
   "codemirror_mode": {
    "name": "ipython",
    "version": 3
   },
   "file_extension": ".py",
   "mimetype": "text/x-python",
   "name": "python",
   "nbconvert_exporter": "python",
   "pygments_lexer": "ipython3",
   "version": "3.6.6"
  }
 },
 "nbformat": 4,
 "nbformat_minor": 2
}
